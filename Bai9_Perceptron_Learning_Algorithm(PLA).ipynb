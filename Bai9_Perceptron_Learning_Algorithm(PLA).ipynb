{
 "cells": [
  {
   "cell_type": "code",
   "execution_count": 60,
   "metadata": {},
   "outputs": [],
   "source": [
    "import matplotlib.pyplot as plt\n",
    "import numpy as np\n"
   ]
  },
  {
   "cell_type": "code",
   "execution_count": 61,
   "metadata": {},
   "outputs": [
    {
     "name": "stdout",
     "output_type": "stream",
     "text": [
      "(2, 20)\n",
      "(3, 40)\n"
     ]
    },
    {
     "name": "stderr",
     "output_type": "stream",
     "text": [
      "C:\\Users\\Thinkpad\\Anaconda3\\lib\\site-packages\\ipykernel_launcher.py:6: RuntimeWarning: covariance is not symmetric positive-semidefinite.\n",
      "  \n",
      "C:\\Users\\Thinkpad\\Anaconda3\\lib\\site-packages\\ipykernel_launcher.py:7: RuntimeWarning: covariance is not symmetric positive-semidefinite.\n",
      "  import sys\n"
     ]
    },
    {
     "data": {
      "text/plain": [
       "(1, 40)"
      ]
     },
     "execution_count": 61,
     "metadata": {},
     "output_type": "execute_result"
    }
   ],
   "source": [
    "# Create data\n",
    "np.random.seed(2)\n",
    "mean=[[2,2],[4,2]]\n",
    "cov=[[.2,.3],[.3,.2]]\n",
    "N=20\n",
    "X0=np.random.multivariate_normal(mean[0],cov,N).T\n",
    "X1=np.random.multivariate_normal(mean[1],cov,N).T\n",
    "print(X0.shape)\n",
    "X=np.concatenate((X0,X1),axis=1)\n",
    "y=np.concatenate((np.ones((1,N)),-1*np.ones((1,N))),axis=1)\n",
    "#Xbar\n",
    "X=np.concatenate((np.ones((1,2*N)),X),axis=0)\n",
    "print(X.shape)\n",
    "y.shape"
   ]
  },
  {
   "cell_type": "markdown",
   "metadata": {},
   "source": [
    "# With data *linearly separable*\n"
   ]
  },
  {
   "cell_type": "code",
   "execution_count": 62,
   "metadata": {},
   "outputs": [
    {
     "data": {
      "text/plain": [
       "[<matplotlib.lines.Line2D at 0x555f9c8>]"
      ]
     },
     "execution_count": 62,
     "metadata": {},
     "output_type": "execute_result"
    },
    {
     "data": {
      "image/png": "[encoded data removed]",
      "text/plain": [
       "<Figure size 432x288 with 1 Axes>"
      ]
     },
     "metadata": {
      "needs_background": "light"
     },
     "output_type": "display_data"
    }
   ],
   "source": [
    "plt.plot(X[1,:N],X[2,:N],'xr')\n",
    "plt.plot(X[1,N:2*N],X[2,N:2*N],'x')"
   ]
  },
  {
   "cell_type": "markdown",
   "metadata": {},
   "source": [
    "# Build model\n",
    "loss function: **J(w) = yi*w.T.xi**  \n",
    "with i=1,..M, xi is a **missclassifier**"
   ]
  },
  {
   "cell_type": "markdown",
   "metadata": {},
   "source": [
    "Algorithm **Stochastic Gradient Descent**"
   ]
  },
  {
   "cell_type": "code",
   "execution_count": 63,
   "metadata": {},
   "outputs": [],
   "source": [
    "# if w.T*x >0 return 1\n",
    "# if w.T*x =0 return 0\n",
    "# if w.T*x <0 return -1\n",
    "def h(w,x):\n",
    "    return np.sign(w.T.dot(x))\n",
    "# check y(calulate by w) is equal y \n",
    "def has_converged(X, y, w):    \n",
    "    return np.array_equal(h(w, X), y)\n",
    "# main function \n",
    "def PLA(w_init, X, y):\n",
    "    w=[w_init]\n",
    "    miss_point=[]\n",
    "    N=X.shape[1] \n",
    "    d=X.shape[0]\n",
    "    while True:\n",
    "        inds= np.random.permutation(N) # mix data\n",
    "        for i in range(N):\n",
    "            xi=X[:,inds[i]].reshape(d,1)\n",
    "            yi=y[:,inds[i]]\n",
    "            if h(w[-1],xi) !=yi: #missclassifier\n",
    "                w_new = w[-1] + xi*yi\n",
    "                w.append(w_new)\n",
    "                miss_point.append(inds[i])\n",
    "        if has_converged(X, y, w[-1]):            \n",
    "            break\n",
    "    return w,miss_point"
   ]
  },
  {
   "cell_type": "code",
   "execution_count": 64,
   "metadata": {},
   "outputs": [
    {
     "name": "stdout",
     "output_type": "stream",
     "text": [
      "Index of miss point over loop:  [39, 18, 13, 20, 0, 33, 10, 5, 25, 15, 24, 11, 8, 36, 19, 39, 16, 33, 4, 5, 22, 15, 29, 17, 39, 8, 15, 36, 5, 29, 5, 1, 20, 15, 30, 9, 39, 19, 15, 36, 8, 33, 16, 39, 0, 5, 35, 17, 29, 14, 15, 28, 1, 24, 15, 33, 14, 15, 29, 5, 33, 19, 15, 29, 1, 38, 5, 5, 38, 17, 15, 29, 15, 39, 16, 33, 5, 15, 29, 5, 29, 5, 15, 29, 1, 26, 15, 33, 1, 29, 8, 15, 38, 17, 5, 33, 1, 29, 8]\n",
      "Solution:  [[ 16.81053074 -14.61785935  13.8617152 ]]\n"
     ]
    }
   ],
   "source": [
    "w_init=np.random.randn(X.shape[0],1) # init w0\n",
    "w,miss=PLA(w_init,X,y)\n",
    "print('Index of miss point over loop: ',miss)\n",
    "print('Solution: ', w[-1].T)"
   ]
  },
  {
   "cell_type": "code",
   "execution_count": 65,
   "metadata": {},
   "outputs": [
    {
     "data": {
      "text/plain": [
       "array([-1.])"
      ]
     },
     "execution_count": 65,
     "metadata": {},
     "output_type": "execute_result"
    }
   ],
   "source": [
    "# predict\n",
    "x0=np.array([1,4,1.5])\n",
    "h(w[-1],x0)"
   ]
  },
  {
   "cell_type": "markdown",
   "metadata": {},
   "source": [
    "# With data *none linearly separable*\n",
    "\n",
    "Find the dividing line (f(X)=w.T*X) so that the numbers of miss point is smallest ( possible)"
   ]
  },
  {
   "cell_type": "code",
   "execution_count": 66,
   "metadata": {},
   "outputs": [
    {
     "data": {
      "text/plain": [
       "[<matplotlib.lines.Line2D at 0x8848088>]"
      ]
     },
     "execution_count": 66,
     "metadata": {},
     "output_type": "execute_result"
    },
    {
     "data": {
      "image/png": "[encoded data removed]",
      "text/plain": [
       "<Figure size 432x288 with 1 Axes>"
      ]
     },
     "metadata": {
      "needs_background": "light"
     },
     "output_type": "display_data"
    }
   ],
   "source": [
    "X[1,15]=4\n",
    "X[2,15]=2\n",
    "y[:,15]=1\n",
    "plt.plot(X[1,:N],X[2,:N],'xr')\n",
    "plt.plot(X[1,N:2*N],X[2,N:2*N],'x')"
   ]
  },
  {
   "cell_type": "markdown",
   "metadata": {},
   "source": [
    "Algorithm **Stochastic Gradient Descent**"
   ]
  },
  {
   "cell_type": "code",
   "execution_count": 67,
   "metadata": {},
   "outputs": [],
   "source": [
    "# if w.T*x >0 return 1\n",
    "# if w.T*x =0 return 0\n",
    "# if w.T*x <0 return -1\n",
    "def h(w,x):\n",
    "    return np.sign(w.T.dot(x))\n",
    "def PLA(w_init, X, y,n): # n: numbers of loop\n",
    "    w=[w_init]\n",
    "    w_best=w # store best solution\n",
    "    miss_point=[]\n",
    "    N=X.shape[1]\n",
    "    d=X.shape[0]\n",
    "    l=[X.shape[1]] # list store number of miss point each loop. l[0] = numbers of point (all point is miss)\n",
    "    count=0 # iterater\n",
    "    while count<n:\n",
    "        count+=1\n",
    "        temp=len(miss_point) # all misspoints ( from iterater 0 to (count-1))\n",
    "        inds= np.random.permutation(N) # mix data\n",
    "        for i in range(N):\n",
    "            xi=X[:,inds[i]].reshape(d,1)\n",
    "            yi=y[:,inds[i]]\n",
    "            if h(w[-1],xi) !=yi: #missclassifier\n",
    "                w_new = w[-1] + xi*yi\n",
    "                w.append(w_new)\n",
    "                miss_point.append(inds[i])\n",
    "        count_miss=len(miss_point)-temp # number of misspoints in iterater count\n",
    "        if count_miss< min(l): #best number of misspoints\n",
    "            w_best=w[-1]\n",
    "        l.append(count_miss)\n",
    "    return miss_point,l, w_best"
   ]
  },
  {
   "cell_type": "code",
   "execution_count": 68,
   "metadata": {},
   "outputs": [
    {
     "name": "stdout",
     "output_type": "stream",
     "text": [
      "Index of miss point over loop:  [36, 11, 8, 32, 10, 2, 20, 12, 26, 16, 39, 9, 25, 18, 5, 21, 15, 38, 1, 15, 37, 1, 26, 17, 29, 19, 5, 34, 8, 29, 1, 39, 15, 30, 5, 15, 25, 39, 1, 39, 17, 15, 33, 1, 29, 15, 39, 5, 33, 17, 29, 13, 15, 30, 5, 36, 19, 29, 2, 15, 31, 15, 33, 5, 39, 15, 37, 5, 15, 21, 1, 39, 5, 38, 14, 15, 21, 17, 33, 1, 29, 14, 39, 8, 15, 22, 39, 8, 5, 32, 16, 15, 27, 33, 1, 29, 17, 1, 39, 5, 38, 19, 1, 30, 5, 33, 16, 15, 29, 39, 17, 5, 39, 15, 36, 1, 24, 15, 38, 19, 15, 36, 5, 29, 8, 15, 32, 1, 38, 17, 15, 35, 5, 33, 15, 33, 5, 15, 32, 1, 15, 39, 26, 5, 29, 15, 39, 17, 15, 28, 15, 26, 15, 36, 5, 29, 1, 39, 15, 33, 1, 29, 5, 15, 33, 15, 30, 15, 22, 29, 17, 15, 31, 1, 33, 1, 33, 5, 15, 21, 15, 39, 39, 15, 15, 36, 39, 17]\n",
      "List numbers of miss point over loop:  [40, 14, 5, 10, 6, 4, 6, 5, 4, 7, 3, 4, 4, 8, 6, 11, 5, 3, 5, 4, 6, 5, 2, 5, 3, 4, 5, 3, 3, 2, 3, 5, 4, 1, 2, 4, 4, 5, 2, 2, 4]\n",
      "Best numbers of miss point:  1\n",
      "Solution:  [[ 20.24821292 -14.27392981  11.89372578]]\n"
     ]
    }
   ],
   "source": [
    "w_init=np.random.randn(X.shape[0],1)\n",
    "miss,l,w_best=PLA(w_init,X,y,40) #  40 iteraters\n",
    "print('Index of miss point over loop: ',miss)\n",
    "print('List numbers of miss point over loop: ',l)\n",
    "print('Best numbers of miss point: ', min(l))\n",
    "print('Solution: ', w_best.T)"
   ]
  }
 ],
 "metadata": {
  "kernelspec": {
   "display_name": "Python 3",
   "language": "python",
   "name": "python3"
  },
  "language_info": {
   "codemirror_mode": {
    "name": "ipython",
    "version": 3
   },
   "file_extension": ".py",
   "mimetype": "text/x-python",
   "name": "python",
   "nbconvert_exporter": "python",
   "pygments_lexer": "ipython3",
   "version": "3.7.4"
  }
 },
 "nbformat": 4,
 "nbformat_minor": 2
}
