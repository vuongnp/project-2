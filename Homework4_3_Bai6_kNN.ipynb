{
 "cells": [
  {
   "cell_type": "code",
   "execution_count": 79,
   "metadata": {},
   "outputs": [],
   "source": [
    "import numpy as np\n",
    "import matplotlib.pyplot as plt\n",
    "from sklearn import neighbors, datasets"
   ]
  },
  {
   "cell_type": "code",
   "execution_count": 80,
   "metadata": {},
   "outputs": [
    {
     "name": "stdout",
     "output_type": "stream",
     "text": [
      "numbers of classes: 3\n",
      "numbers of data points: 150\n",
      "Samples of class 0:  [[5.1 3.5 1.4 0.2]\n",
      " [4.9 3.  1.4 0.2]\n",
      " [4.7 3.2 1.3 0.2]\n",
      " [4.6 3.1 1.5 0.2]\n",
      " [5.  3.6 1.4 0.2]]\n",
      "Samples of class 1:  [[7.  3.2 4.7 1.4]\n",
      " [6.4 3.2 4.5 1.5]\n",
      " [6.9 3.1 4.9 1.5]\n",
      " [5.5 2.3 4.  1.3]\n",
      " [6.5 2.8 4.6 1.5]]\n",
      "Samples of class 2:  [[6.3 3.3 6.  2.5]\n",
      " [5.8 2.7 5.1 1.9]\n",
      " [7.1 3.  5.9 2.1]\n",
      " [6.3 2.9 5.6 1.8]\n",
      " [6.5 3.  5.8 2.2]]\n"
     ]
    }
   ],
   "source": [
    "iris=datasets.load_iris()\n",
    "iris_X=iris.data\n",
    "iris_y=iris.target\n",
    "print('numbers of classes: %d' % len(np.unique(iris_y)))\n",
    "print('numbers of data points: %d' % len(iris_X))\n",
    "X0=iris_X[iris_y==0,:]\n",
    "print('Samples of class 0: ', X0[:5,:])\n",
    "X1=iris_X[iris_y==1,:]\n",
    "print('Samples of class 1: ', X1[:5,:])\n",
    "X2=iris_X[iris_y==2,:]\n",
    "print('Samples of class 2: ', X2[:5,:])"
   ]
  },
  {
   "cell_type": "code",
   "execution_count": 81,
   "metadata": {},
   "outputs": [
    {
     "name": "stdout",
     "output_type": "stream",
     "text": [
      "(100, 4)\n"
     ]
    }
   ],
   "source": [
    "from sklearn.model_selection import train_test_split\n",
    "\n",
    "X_train, X_test, y_train, y_test = train_test_split(iris_X,iris_y, test_size=50)\n",
    "print(X_train.shape)\n"
   ]
  },
  {
   "cell_type": "code",
   "execution_count": 82,
   "metadata": {},
   "outputs": [
    {
     "name": "stdout",
     "output_type": "stream",
     "text": [
      "Predicted labels:  [2 1 0 0 1 1 2 0 1 0 2 0 2 1 2 0 1 1 2 0]\n",
      "Ground truth    :  [2 1 0 0 1 1 2 0 2 0 2 0 2 1 2 0 1 1 2 0]\n"
     ]
    }
   ],
   "source": [
    "clf=neighbors.KNeighborsClassifier(p=2, n_neighbors=1)\n",
    "fitted=clf.fit(X_train,y_train)\n",
    "y_hat=fitted.predict(X_test)\n",
    "print('Predicted labels: ',y_hat[20:40])\n",
    "print('Ground truth    : ',y_test[20:40])"
   ]
  },
  {
   "cell_type": "code",
   "execution_count": 83,
   "metadata": {},
   "outputs": [
    {
     "name": "stdout",
     "output_type": "stream",
     "text": [
      "Accuracy: 98.00%\n"
     ]
    }
   ],
   "source": [
    "from sklearn.metrics import accuracy_score\n",
    "print('Accuracy: %.2f%%' % (100*accuracy_score(y_test,y_hat)))"
   ]
  },
  {
   "cell_type": "code",
   "execution_count": 84,
   "metadata": {},
   "outputs": [
    {
     "name": "stdout",
     "output_type": "stream",
     "text": [
      "Accuracy score with k from 1 to 12: [98. 96. 98. 98. 98. 96. 98. 98. 98. 94. 98.]\n",
      "The best accuracy score: 98.0% with k = 1\n"
     ]
    }
   ],
   "source": [
    "# weight='uniform' (default)\n",
    "Ks=range(1,12)\n",
    "accs_u= np.empty(len(Ks)) # accuracies\n",
    "for k in Ks:\n",
    "    clf=neighbors.KNeighborsClassifier(n_neighbors=k, p=2).fit(X_train, y_train)\n",
    "    y_hat=clf.predict(X_test)\n",
    "    accs_u[k-1]=100*accuracy_score(y_test,y_hat)\n",
    "print('Accuracy score with k from 1 to 12:', accs_u)\n",
    "print('The best accuracy score: {0}% with k = {1}'.format(max(accs_u),accs_u.argmax()+1))"
   ]
  },
  {
   "cell_type": "code",
   "execution_count": 85,
   "metadata": {},
   "outputs": [
    {
     "name": "stdout",
     "output_type": "stream",
     "text": [
      "Accuracy score with k from 1 to 12: [ 98.  98.  98.  98.  98.  98.  98. 100.  98.  98.  98.]\n",
      "The best accuracy score: 100.0% with k = 8\n"
     ]
    }
   ],
   "source": [
    "# weight='distance'\n",
    "accs_d= np.empty(len(Ks)) # accuracies\n",
    "for k in Ks:\n",
    "    clf=neighbors.KNeighborsClassifier(n_neighbors=k, p=2, weights='distance').fit(X_train, y_train)\n",
    "    y_hat=clf.predict(X_test)\n",
    "    accs_d[k-1]=100*accuracy_score(y_test,y_hat)\n",
    "print('Accuracy score with k from 1 to 12:', accs_d)\n",
    "print('The best accuracy score: {0}% with k = {1}'.format(max(accs_d),accs_d.argmax()+1))"
   ]
  },
  {
   "cell_type": "code",
   "execution_count": 86,
   "metadata": {},
   "outputs": [],
   "source": [
    "# define my weight \n",
    "def myweight(distance):\n",
    "    sigma2=0.5\n",
    "    return np.exp(-distance**2/sigma2)"
   ]
  },
  {
   "cell_type": "code",
   "execution_count": 87,
   "metadata": {},
   "outputs": [
    {
     "name": "stdout",
     "output_type": "stream",
     "text": [
      "Accuracy score with k from 1 to 12: [98. 98. 98. 98. 98. 98. 96. 98. 96. 98. 96.]\n",
      "The best accuracy score: 98.0% with k = 1\n"
     ]
    }
   ],
   "source": [
    "# weight='myweight'\n",
    "accs_m= np.empty(len(Ks)) # accuracies\n",
    "for k in Ks:\n",
    "    clf=neighbors.KNeighborsClassifier(n_neighbors=k, p=2, weights=myweight).fit(X_train, y_train)\n",
    "    y_hat=clf.predict(X_test)\n",
    "    accs_m[k-1]=100*accuracy_score(y_test,y_hat)\n",
    "print('Accuracy score with k from 1 to 12:', accs_m)\n",
    "print('The best accuracy score: {0}% with k = {1}'.format(max(accs_m),accs_m.argmax()+1))"
   ]
  },
  {
   "cell_type": "code",
   "execution_count": 88,
   "metadata": {},
   "outputs": [
    {
     "data": {
      "image/png": "[encoded data removed]",
      "text/plain": [
       "<Figure size 432x288 with 1 Axes>"
      ]
     },
     "metadata": {
      "needs_background": "light"
     },
     "output_type": "display_data"
    }
   ],
   "source": [
    "#plot result\n",
    "plt.plot(accs_u)\n",
    "plt.plot(accs_d)\n",
    "plt.plot(accs_m)\n",
    "plt.xlabel('Numbers of neighbors')\n",
    "plt.ylabel('Accuracy score')\n",
    "plt.legend(('Weight uniform','Weight distance', 'Weight myweight'))\n",
    "plt.show()"
   ]
  }
 ],
 "metadata": {
  "kernelspec": {
   "display_name": "Python 3",
   "language": "python",
   "name": "python3"
  },
  "language_info": {
   "codemirror_mode": {
    "name": "ipython",
    "version": 3
   },
   "file_extension": ".py",
   "mimetype": "text/x-python",
   "name": "python",
   "nbconvert_exporter": "python",
   "pygments_lexer": "ipython3",
   "version": "3.7.4"
  }
 },
 "nbformat": 4,
 "nbformat_minor": 2
}
